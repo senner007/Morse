{
 "cells": [
  {
   "cell_type": "code",
   "execution_count": null,
   "metadata": {},
   "outputs": [],
   "source": [
    "import matplotlib.pyplot as plt\n",
    "from morse_helpers import convert_image_to_array\n",
    "from tensorflow.keras.layers import Dense, Dropout, Flatten, Reshape, Conv2D, Conv1D, MaxPooling2D, Input, AveragePooling2D, MaxPooling1D, ZeroPadding2D\n",
    "import tensorflow as tf\n",
    "import numpy as np\n",
    "\n",
    "        "
   ]
  },
  {
   "cell_type": "code",
   "execution_count": null,
   "metadata": {},
   "outputs": [],
   "source": [
    "# Retrieve saved model\n",
    "loaded_model = tf.keras.models.load_model(\"saved_model\")"
   ]
  },
  {
   "cell_type": "code",
   "execution_count": null,
   "metadata": {},
   "outputs": [],
   "source": [
    "def show_image(img):\n",
    "    fig = plt.figure(figsize=(30,5))\n",
    "    plt.xlim(0, 300)\n",
    "    plt.imshow(img)\n",
    "    plt.show()\n",
    "    return fig"
   ]
  },
  {
   "cell_type": "code",
   "execution_count": null,
   "metadata": {},
   "outputs": [],
   "source": [
    "# Add noise to image and predict and display\n",
    "orig_img = convert_image_to_array(\"wordsMatrices_13_000/0.png\", (5, 1400))\n",
    "\n",
    "x = tf.reshape(orig_img, [1, 5, 1400, 1])\n",
    "x = tf.keras.layers.GaussianNoise(0.2)(x)\n",
    "\n",
    "noise_img_exp_dim = np.expand_dims(x[0], axis=0)\n",
    "prediction = loaded_model.predict(noise_img_exp_dim)\n",
    "\n",
    "pos_pred = int(prediction[0][0][0] * 1400)\n",
    "\n",
    "cat_pred = np.argmax(prediction[1])\n",
    "\n",
    "image_noise = x[0].numpy()\n",
    "\n",
    "show_image(orig_img)\n",
    "show_image(image_noise)\n",
    "\n",
    "print(\"position\", pos_pred)\n",
    "print(\"letter\", cat_pred)\n"
   ]
  }
 ],
 "metadata": {
  "interpreter": {
   "hash": "ddce95701716284d8751d5796858f7ca5e76f20d028bc4aeb8f12865d04c55c9"
  },
  "kernelspec": {
   "display_name": "Python 3.9.7 64-bit ('newenv': conda)",
   "language": "python",
   "name": "python3"
  },
  "language_info": {
   "codemirror_mode": {
    "name": "ipython",
    "version": 3
   },
   "file_extension": ".py",
   "mimetype": "text/x-python",
   "name": "python",
   "nbconvert_exporter": "python",
   "pygments_lexer": "ipython3",
   "version": "3.9.7"
  },
  "orig_nbformat": 4
 },
 "nbformat": 4,
 "nbformat_minor": 2
}
