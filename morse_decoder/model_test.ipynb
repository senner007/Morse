{
 "cells": [
  {
   "cell_type": "code",
   "execution_count": null,
   "metadata": {},
   "outputs": [],
   "source": [
    "import matplotlib.pyplot as plt\n",
    "from morse_helpers import convert_image_to_array\n",
    "from tensorflow.keras.layers import Dense, Dropout, Flatten, Reshape, Conv2D, Conv1D, MaxPooling2D, Input, AveragePooling2D, MaxPooling1D, ZeroPadding2D\n",
    "import tensorflow as tf\n",
    "import numpy as np"
   ]
  },
  {
   "cell_type": "code",
   "execution_count": null,
   "metadata": {},
   "outputs": [],
   "source": [
    "# Retrieve saved model\n",
    "loaded_model = tf.keras.models.load_model(\"saved_model\")"
   ]
  },
  {
   "cell_type": "code",
   "execution_count": null,
   "metadata": {},
   "outputs": [],
   "source": [
    "def show_image(img):\n",
    "    fig = plt.figure(figsize=(30,5))\n",
    "    plt.xlim(0, 300)\n",
    "    plt.imshow(img)\n",
    "  \n",
    "    return fig"
   ]
  },
  {
   "cell_type": "code",
   "execution_count": null,
   "metadata": {},
   "outputs": [],
   "source": [
    "def get_noisy_image(img, noise_level):\n",
    "    tf.keras.backend.set_learning_phase(1)\n",
    "    x = tf.reshape(img, [1, 5, 1400, 1])\n",
    "    x = tf.keras.layers.GaussianNoise(noise_level)(x)\n",
    "    return x[0]\n",
    "\n",
    "def get_img_prediction(img):\n",
    "    img_exp = np.expand_dims(img, axis=0)\n",
    "    pred = loaded_model.predict(img_exp)\n",
    "    return int(pred[0][0][0] * 1400), np.argmax(pred[1])\n",
    "\n",
    "def print_prediction(prediction, description):\n",
    "    print(\"prediction on image \", description, \" : position, letter :\", prediction[0], prediction[1])\n"
   ]
  },
  {
   "cell_type": "code",
   "execution_count": null,
   "metadata": {},
   "outputs": [],
   "source": [
    "# Add noise to image and predict and display\n",
    "orig_img = convert_image_to_array(\"wordsMatrices_13_220/0.png\", (5, 1400))\n",
    "noisy_img_01 = get_noisy_image(orig_img, 0.1)\n",
    "noise_img_02 = get_noisy_image(orig_img, 0.2)\n",
    "noise_img_03 = get_noisy_image(orig_img, 0.3)\n",
    "noise_img_04 = get_noisy_image(orig_img, 0.4)\n",
    "noise_img_05 = get_noisy_image(orig_img, 0.5)\n",
    "\n",
    "show_image(orig_img)\n",
    "print_prediction(get_img_prediction(orig_img), \"original image\")\n",
    "plt.show()\n",
    "\n",
    "show_image(noisy_img_01)\n",
    "print_prediction(get_img_prediction(noisy_img_01), \"with noise level 0.1\")\n",
    "plt.show()\n",
    "\n",
    "show_image(noise_img_02)\n",
    "print_prediction(get_img_prediction(noise_img_02), \"with noise level 0.2\")\n",
    "plt.show()\n",
    "\n",
    "show_image(noise_img_03)\n",
    "print_prediction(get_img_prediction(noise_img_03), \"with noise level 0.3\")\n",
    "plt.show()\n",
    "\n",
    "show_image(noise_img_04)\n",
    "print_prediction(get_img_prediction(noise_img_04), \"with noise level 0.4\")\n",
    "plt.show()\n",
    "\n",
    "show_image(noise_img_05)\n",
    "print_prediction(get_img_prediction(noise_img_05), \"with noise level 0.5\")\n",
    "plt.show()\n"
   ]
  }
 ],
 "metadata": {
  "interpreter": {
   "hash": "ddce95701716284d8751d5796858f7ca5e76f20d028bc4aeb8f12865d04c55c9"
  },
  "kernelspec": {
   "display_name": "Python 3.9.7 64-bit ('newenv': conda)",
   "language": "python",
   "name": "python3"
  },
  "language_info": {
   "codemirror_mode": {
    "name": "ipython",
    "version": 3
   },
   "file_extension": ".py",
   "mimetype": "text/x-python",
   "name": "python",
   "nbconvert_exporter": "python",
   "pygments_lexer": "ipython3",
   "version": "3.9.7"
  },
  "orig_nbformat": 4
 },
 "nbformat": 4,
 "nbformat_minor": 2
}
