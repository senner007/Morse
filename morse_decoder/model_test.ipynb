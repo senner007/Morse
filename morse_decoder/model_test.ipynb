{
 "cells": [
  {
   "cell_type": "code",
   "execution_count": null,
   "metadata": {},
   "outputs": [],
   "source": [
    "import matplotlib.pyplot as plt\n",
    "from morse_helpers import convert_image_to_array\n",
    "from tensorflow.keras.layers import Dense, Dropout, Flatten, Reshape, Conv2D, Conv1D, MaxPooling2D, Input, AveragePooling2D, MaxPooling1D, ZeroPadding2D\n",
    "import tensorflow as tf\n",
    "import numpy as np"
   ]
  },
  {
   "cell_type": "code",
   "execution_count": null,
   "metadata": {},
   "outputs": [],
   "source": [
    "# Retrieve saved model\n",
    "loaded_model = tf.keras.models.load_model(\"saved_model\")\n",
    "\n",
    "# Retrieve saved model\n",
    "loaded_model_2 = tf.keras.models.load_model(\"saved_model_2\")"
   ]
  },
  {
   "cell_type": "code",
   "execution_count": null,
   "metadata": {},
   "outputs": [],
   "source": [
    "def show_image(img):\n",
    "    fig = plt.figure(figsize=(30,5))\n",
    "    plt.xlim(0, 700)\n",
    "    plt.imshow(img)\n",
    "  \n",
    "    return fig"
   ]
  },
  {
   "cell_type": "code",
   "execution_count": null,
   "metadata": {},
   "outputs": [],
   "source": [
    "def get_noisy_image(img, noise_level):\n",
    "    tf.keras.backend.set_learning_phase(1)\n",
    "    x = tf.reshape(img, [1, 5, 1400, 1])\n",
    "    x = tf.keras.layers.GaussianNoise(noise_level)(x)\n",
    "    return x[0]\n",
    "\n",
    "def get_img_prediction(img, model):\n",
    "    img_exp = np.expand_dims(img, axis=0)\n",
    "    pred = model.predict(img_exp)\n",
    "    return int(pred[0][0][0] * 1400), np.argmax(pred[1])\n",
    "\n",
    "def print_prediction(prediction, description):\n",
    "    print(\"prediction on image \", description, \" : position, letter :\", prediction[0], prediction[1])\n"
   ]
  },
  {
   "cell_type": "code",
   "execution_count": null,
   "metadata": {},
   "outputs": [],
   "source": [
    "# Add noise to image and predict and display\n",
    "orig_img = convert_image_to_array(\"wordsMatrices_13_220/1.png\", (5, 1400))\n",
    "\n",
    "NOISE_LEVELS = [0.1, 0.2, 0.3]\n",
    "\n",
    "for level in NOISE_LEVELS:\n",
    "    noisy_img_01 = get_noisy_image(orig_img, level)\n",
    "\n",
    "    show_image(noisy_img_01)\n",
    "    print_prediction(get_img_prediction(noisy_img_01, loaded_model), \"original image\")\n",
    "    plt.show()\n"
   ]
  },
  {
   "cell_type": "code",
   "execution_count": null,
   "metadata": {},
   "outputs": [],
   "source": [
    "def get_orig_image_arrays(amount):\n",
    "    orig_images = []\n",
    "    for i in range(amount):\n",
    "        orig_images.append(convert_image_to_array(\"wordsMatrices_13_220/\" + str(i) + \".png\", (5, 1400)))\n",
    "\n",
    "    return orig_images"
   ]
  },
  {
   "cell_type": "code",
   "execution_count": null,
   "metadata": {},
   "outputs": [],
   "source": [
    "def test_moel_noise_level(noise_level, amount, model, orig_images):\n",
    "    counter = 0\n",
    "    for i in range(amount):\n",
    "        orig_img = orig_images[i]\n",
    "        orig_pred = get_img_prediction(orig_img, model)\n",
    "        noisey_pred = get_img_prediction(get_noisy_image(orig_img, noise_level), model)\n",
    "        if orig_pred[1] != noisey_pred[1]:\n",
    "            counter += 1\n",
    "    print(\"for noise level\", noise_level, \":\", counter/amount * 100, \"% wrong\", \"model name\", model.name, \"amount\", amount)\n",
    "    return counter/amount\n"
   ]
  },
  {
   "cell_type": "code",
   "execution_count": null,
   "metadata": {},
   "outputs": [],
   "source": [
    "AMOUNT = 500\n",
    "orig_images = get_orig_image_arrays(AMOUNT)"
   ]
  },
  {
   "cell_type": "code",
   "execution_count": null,
   "metadata": {},
   "outputs": [],
   "source": [
    "MODELS = [loaded_model, loaded_model_2]\n",
    "\n",
    "for level in NOISE_LEVELS:\n",
    "    for model in MODELS:\n",
    "        performance = test_moel_noise_level(level, AMOUNT, model, orig_images)\n"
   ]
  }
 ],
 "metadata": {
  "interpreter": {
   "hash": "ddce95701716284d8751d5796858f7ca5e76f20d028bc4aeb8f12865d04c55c9"
  },
  "kernelspec": {
   "display_name": "Python 3.9.7 64-bit ('newenv': conda)",
   "language": "python",
   "name": "python3"
  },
  "language_info": {
   "codemirror_mode": {
    "name": "ipython",
    "version": 3
   },
   "file_extension": ".py",
   "mimetype": "text/x-python",
   "name": "python",
   "nbconvert_exporter": "python",
   "pygments_lexer": "ipython3",
   "version": "3.9.7"
  },
  "orig_nbformat": 4
 },
 "nbformat": 4,
 "nbformat_minor": 2
}
