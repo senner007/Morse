{
 "cells": [
  {
   "cell_type": "code",
   "execution_count": null,
   "metadata": {},
   "outputs": [],
   "source": [
    "import matplotlib.pyplot as plt\n",
    "import numpy as np\n",
    "import wave\n",
    "import sys\n",
    "import numpy as np\n",
    "import matplotlib.pyplot as plt\n",
    "from scipy.io import wavfile\n",
    "import tensorflow.keras as keras"
   ]
  },
  {
   "cell_type": "code",
   "execution_count": null,
   "metadata": {},
   "outputs": [],
   "source": [
    "model_velocity = keras.models.load_model('saved_model_velocity')\n",
    "model_regression = keras.models.load_model('saved_mode_regression')\n",
    "model_categorical = keras.models.load_model('saved_model_categorical_right_align')"
   ]
  },
  {
   "cell_type": "code",
   "execution_count": null,
   "metadata": {},
   "outputs": [],
   "source": [
    "from audio_process.fft import stfft, normalizer, get_highest_rows, cut_fft_image, fit_image_length, expand_image_dims"
   ]
  },
  {
   "cell_type": "code",
   "execution_count": null,
   "metadata": {},
   "outputs": [],
   "source": [
    "def train_img_generate(signal, jump=64):\n",
    "    spectrum_normalized, columns = stfft(signal.astype(np.float32), int(jump), normalizer)\n",
    "    highest_rows = get_highest_rows(spectrum_normalized) \n",
    "    image_cut = cut_fft_image(spectrum_normalized, highest_rows)\n",
    "    image_fitted = fit_image_length(image_cut)\n",
    "    return image_fitted"
   ]
  },
  {
   "cell_type": "code",
   "execution_count": 45,
   "metadata": {},
   "outputs": [
    {
     "name": "stdout",
     "output_type": "stream",
     "text": [
      "length: 1.2296666666666667 seconds\n"
     ]
    }
   ],
   "source": [
    "ORIG_AUDIO_FILE_NAME = 'training_data/AUDIO17/AUDIO_012_222/AHEA_15000_17_022.wav'\n",
    "ORIG_AUDIO_FILE_NAME_2 = 'training_data/AUDIO17/AUDIO_012_222/AGVDNY_25300_17_222.wav'\n",
    "ORIG_AUDIO_FILE_NAME_3 = 'training_data/MorseTrainSet_18/AUDIO18/ZSSBPFNEU_11400_18_411/CZVEJZX_24600_18_402.wav'\n",
    "ORIG_AUDIO_FILE_NAME_4 = 'training_data/MorseTrainSet_18/AUDIO18/ZSSBPFNEU_11400_18_411/BIZMRR_27000_18_402.wav'\n",
    "\n",
    "SampleRate, signal = wavfile.read(ORIG_AUDIO_FILE_NAME)\n",
    "\n",
    "length = signal.shape[0] / SampleRate\n",
    "print('length:', length, \"seconds\")"
   ]
  },
  {
   "cell_type": "code",
   "execution_count": 46,
   "metadata": {},
   "outputs": [],
   "source": [
    "\n",
    "def show_image(img, width=300):\n",
    "    plt.figure(figsize=(30,5))\n",
    "    plt.xlim(0, width)\n",
    "    plt.imshow(img)\n",
    "    plt.show()"
   ]
  },
  {
   "cell_type": "code",
   "execution_count": 47,
   "metadata": {},
   "outputs": [
    {
     "data": {
      "text/plain": [
       "36.59611940383911"
      ]
     },
     "execution_count": 47,
     "metadata": {},
     "output_type": "execute_result"
    }
   ],
   "source": [
    "img = train_img_generate(signal, 64)\n",
    "\n",
    "velocity_prediction = (model_velocity(expand_image_dims(img))).numpy()[0][0] * 100\n",
    "velocity_prediction"
   ]
  },
  {
   "cell_type": "code",
   "execution_count": 48,
   "metadata": {},
   "outputs": [],
   "source": [
    "rescale_jump = 64 * (21.5 / velocity_prediction)\n",
    "img_rescaled = train_img_generate(signal, rescale_jump)"
   ]
  },
  {
   "cell_type": "code",
   "execution_count": 49,
   "metadata": {},
   "outputs": [
    {
     "data": {
      "image/png": "[encoded data removed]",
      "text/plain": [
       "<Figure size 2160x360 with 1 Axes>"
      ]
     },
     "metadata": {
      "needs_background": "light"
     },
     "output_type": "display_data"
    }
   ],
   "source": [
    "position = model_regression(expand_image_dims(img_rescaled)).numpy()[0][0] * 1400\n",
    "show_image(img_rescaled, 100)\n",
    "position = position +  5"
   ]
  },
  {
   "cell_type": "code",
   "execution_count": 50,
   "metadata": {},
   "outputs": [
    {
     "data": {
      "image/png": "[encoded data removed]",
      "text/plain": [
       "<Figure size 2160x360 with 1 Axes>"
      ]
     },
     "metadata": {
      "needs_background": "light"
     },
     "output_type": "display_data"
    },
    {
     "name": "stdout",
     "output_type": "stream",
     "text": [
      "categorical prediction:  0\n"
     ]
    }
   ],
   "source": [
    "categorical_image = np.zeros((5, 1400))\n",
    "n = (150 - position)\n",
    "categorical_image[:, int(n):int(position) + int(n)] = img_rescaled[:,:int(position)]\n",
    "categorical_prediction = model_categorical(expand_image_dims(categorical_image))\n",
    "\n",
    "show_image(categorical_image, 200)\n",
    "print('categorical prediction: ', np.argmax(categorical_prediction))"
   ]
  }
 ],
 "metadata": {
  "interpreter": {
   "hash": "be0503bf1d8a1ee3ca0077be831d95fbcddd9686f11808f41fa1809452b7e6ad"
  },
  "kernelspec": {
   "display_name": "Python 3.9.7 64-bit ('newenv': conda)",
   "language": "python",
   "name": "python3"
  },
  "language_info": {
   "codemirror_mode": {
    "name": "ipython",
    "version": 3
   },
   "file_extension": ".py",
   "mimetype": "text/x-python",
   "name": "python",
   "nbconvert_exporter": "python",
   "pygments_lexer": "ipython3",
   "version": "3.9.7"
  },
  "orig_nbformat": 4
 },
 "nbformat": 4,
 "nbformat_minor": 2
}
