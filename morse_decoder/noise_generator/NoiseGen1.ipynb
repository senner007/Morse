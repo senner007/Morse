{
 "cells": [
  {
   "cell_type": "code",
   "execution_count": null,
   "metadata": {},
   "outputs": [],
   "source": [
    "import matplotlib.pyplot as plt\n",
    "import numpy as np\n",
    "from scipy import signal\n",
    "from scipy.io import wavfile\n",
    "from scipy.fft import fft\n",
    "from noisegen import NoiseHandling\n",
    "\n",
    "#------------------------------------------------------------------------------------\n",
    "# Test\n",
    "Cnoise=NoiseHandling()\n",
    "wavfpn='../training_data/AUDIO17/AUDIO_012_222/AHEA_15000_17_022.wav'\n",
    "samplerate, ausignal=wavfile.read(wavfpn)\n",
    "FFTlen=2048*2\n",
    "shortclip=ausignal[0:FFTlen]\n",
    "print('Fs=',samplerate,'ausignal shape=',ausignal.shape)\n",
    "#print('bf=',Cnoise.BfHigh,',af=',Cnoise.AfHigh)\n",
    "Cnoise.SetFrequencies(6000,2200,200)\n",
    "Cnoise.noise_rng\n",
    "#Siglen=2048*2\n",
    "t0=np.linspace(0,2,FFTlen)\n",
    "#sig0=np.sin(2*np.pi*100*t0)\n",
    "Fshortclip=np.abs(fft(shortclip*np.hamming(FFTlen)))\n",
    "Fshortclip=Fshortclip/np.amax(Fshortclip)   # Normalisation for plot\n",
    "print('max1=', np.amax(Fshortclip))\n",
    "SNRdB=0\n",
    "sig2, someNoise= Cnoise.addNoise(shortclip,SNRdB)\n",
    "Fsig2=np.abs(fft(sig2*np.hamming(FFTlen)))\n",
    "Fsig2=Fsig2/np.amax(Fsig2)                  # Normalisation for plot\n",
    "freqv=np.linspace(0,Cnoise.Fs*(FFTlen-1)/FFTlen,FFTlen)\n",
    "fig, ax3 = plt.subplots(2)\n",
    "fig.suptitle('No noise / wiith Noise')\n",
    "ax3[0].plot(freqv,20*np.log10(Fshortclip))\n",
    "ax3[1].plot(freqv,20*np.log10(Fsig2))\n",
    "ax3[0].set_ylim([-70,0])\n",
    "ax3[1].set_ylim([-70,0])\n",
    "ax3[0].grid(True)\n",
    "ax3[1].grid(True)\n",
    "ax3[0].set_ylabel('dB')\n",
    "ax3[1].set_ylabel('dB')\n",
    "\n"
   ]
  }
 ],
 "metadata": {
  "interpreter": {
   "hash": "6c88c4881eca2d0e83154874c08400641757b0294248ec6a2776612a95a81e42"
  },
  "kernelspec": {
   "display_name": "Python 3.8.10 64-bit",
   "language": "python",
   "name": "python3"
  },
  "language_info": {
   "codemirror_mode": {
    "name": "ipython",
    "version": 3
   },
   "file_extension": ".py",
   "mimetype": "text/x-python",
   "name": "python",
   "nbconvert_exporter": "python",
   "pygments_lexer": "ipython3",
   "version": "3.9.7"
  },
  "orig_nbformat": 4
 },
 "nbformat": 4,
 "nbformat_minor": 2
}
