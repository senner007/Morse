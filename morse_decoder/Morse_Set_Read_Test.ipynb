{
 "cells": [
  {
   "cell_type": "code",
   "execution_count": null,
   "metadata": {},
   "outputs": [],
   "source": [
    "# TEST\n",
    "# Read Index and data of raw data, Morse-data Gen-22\n",
    "import matplotlib.pyplot as plt\n",
    "import numpy as np\n",
    "L16Path=\"training_data/MorseTrainSet_22/RAW22\"\n",
    "L16file=L16Path +\"/Long16_22_010.bin\"\n",
    "Indexfile=L16Path +\"/L16Index_22_010.bin\"\n",
    "f1 = open(Indexfile, \"rb\")\n",
    "f2= open(L16file,'rb')\n",
    "numpy_index = np.fromfile(f1,dtype=np.float64)\n",
    "print(numpy_index[0:4])\n",
    "siglen=np.int32(numpy_index[0])\n",
    "nextpos=np.int32(numpy_index[1])\n",
    "scalefac=numpy_index[2]\n",
    "print(siglen, nextpos, scalefac)\n",
    "numpy_data= np.fromfile(f2,dtype=np.int16)\n",
    "signal=np.float64(numpy_data[0:siglen])*scalefac\n",
    "fig, ax = plt.subplots() \n",
    "ax.plot(signal)\n",
    "ax.grid(True)\n",
    "\n",
    "f1.close\n",
    "f2.close\n",
    "np.size(signal)\n"
   ]
  }
 ],
 "metadata": {
  "interpreter": {
   "hash": "6c88c4881eca2d0e83154874c08400641757b0294248ec6a2776612a95a81e42"
  },
  "kernelspec": {
   "display_name": "Python 3.8.10 64-bit",
   "language": "python",
   "name": "python3"
  },
  "language_info": {
   "codemirror_mode": {
    "name": "ipython",
    "version": 3
   },
   "file_extension": ".py",
   "mimetype": "text/x-python",
   "name": "python",
   "nbconvert_exporter": "python",
   "pygments_lexer": "ipython3",
   "version": "3.9.7"
  },
  "orig_nbformat": 4
 },
 "nbformat": 4,
 "nbformat_minor": 2
}
