{
 "cells": [
  {
   "cell_type": "code",
   "execution_count": 2,
   "metadata": {},
   "outputs": [
    {
     "data": {
      "text/plain": [
       "100"
      ]
     },
     "execution_count": 2,
     "metadata": {},
     "output_type": "execute_result"
    }
   ],
   "source": [
    "from random import randrange\n",
    "import numpy as np\n",
    "import matplotlib.pyplot as plt\n",
    "rangeInts = [100,100]\n",
    "\n",
    "random_signal_indent = rangeInts[0] if rangeInts[0] == rangeInts[1] else  randrange(*rangeInts)\n",
    "random_signal_indent"
   ]
  },
  {
   "cell_type": "code",
   "execution_count": 6,
   "metadata": {},
   "outputs": [],
   "source": [
    "def shift_each_image_randomly(train_images, params, image_target_size):\n",
    "    shift = random.randint(params[0], params[1])\n",
    "    if (shift > 0):\n",
    "        train_images_padded = [np.pad(img, [(0,0),(shift,0), (0,0)], mode='constant')[:, :image_target_size[1]] for img in train_images]\n",
    "    else:\n",
    "        train_images_padded = [np.pad(img, [(0,0),(0,abs(shift)), (0,0)], mode='constant')[:, abs(shift): image_target_size[1] + abs(shift)] for img in train_images]\n",
    "    \n",
    "    return train_images_padded, shift\n",
    "\n",
    "def show_image(img):\n",
    "    plt.figure(figsize=(30,5))\n",
    "    plt.xlim(0, 300)\n",
    "    plt.imshow(img)\n",
    "    plt.show()\n"
   ]
  },
  {
   "cell_type": "code",
   "execution_count": 40,
   "metadata": {},
   "outputs": [
    {
     "data": {
      "text/plain": [
       "(100, 100)"
      ]
     },
     "execution_count": 40,
     "metadata": {},
     "output_type": "execute_result"
    }
   ],
   "source": [
    "a = np.zeros([10, 100, 100])\n",
    "\n",
    "a[0].shape\n"
   ]
  },
  {
   "cell_type": "code",
   "execution_count": 163,
   "metadata": {},
   "outputs": [
    {
     "name": "stdout",
     "output_type": "stream",
     "text": [
      "(10, 100, 100)\n",
      "-9\n",
      "-98\n",
      "-66\n",
      "-34\n",
      "-26\n",
      "-10\n",
      "-20\n",
      "-75\n",
      "-37\n",
      "-84\n"
     ]
    },
    {
     "data": {
      "image/png": "[encoded data removed]",
      "text/plain": [
       "<Figure size 2160x360 with 1 Axes>"
      ]
     },
     "metadata": {
      "needs_background": "light"
     },
     "output_type": "display_data"
    },
    {
     "data": {
      "text/plain": [
       "1.0"
      ]
     },
     "execution_count": 163,
     "metadata": {},
     "output_type": "execute_result"
    }
   ],
   "source": [
    "image_target_size = (100, 100,1)\n",
    "images = np.ones([10, image_target_size[0], image_target_size[1]])\n",
    "shift = 10\n",
    "\n",
    "labels = np.zeros(128)\n",
    "\n",
    "print(images.shape)\n",
    "\n",
    "\n",
    "def shift_randomly_binary_labels(params):\n",
    "    def shift_randomly(images, labels, image_target_size):\n",
    "        shifted_images = images.copy()\n",
    "        labels_binary = labels.copy()\n",
    "        for idx, img in enumerate(images):\n",
    "            shift = randrange(*params)\n",
    "            shifted_left = np.pad(img, [(0,0),(0,abs(shift))], mode='constant')[:, abs(shift): image_target_size[1] + abs(shift)]\n",
    "            labels_binary[idx] = 0 if shift < -50 else 1\n",
    "            shifted_images[idx] = shifted_left\n",
    "            \n",
    "        return (shifted_images, labels_binary)\n",
    "    \n",
    "    return shift_randomly\n",
    "\n",
    "func = shift_randomly_binary_labels([-100,0])\n",
    "(img_shifted, labels_bin) = func(images, labels, image_target_size)\n",
    "\n",
    "show_image(img_shifted[0])\n",
    "labels_bin[0]\n",
    "# img_shifted[0]\n"
   ]
  },
  {
   "cell_type": "code",
   "execution_count": 3,
   "metadata": {},
   "outputs": [
    {
     "data": {
      "text/plain": [
       "array([2, 2, 2, 2])"
      ]
     },
     "execution_count": 3,
     "metadata": {},
     "output_type": "execute_result"
    }
   ],
   "source": [
    "\n",
    "l = [np.array([2,2]), np.array([2,2])]\n",
    "np.concatenate(l).ravel()"
   ]
  }
 ],
 "metadata": {
  "interpreter": {
   "hash": "ddce95701716284d8751d5796858f7ca5e76f20d028bc4aeb8f12865d04c55c9"
  },
  "kernelspec": {
   "display_name": "Python 3.9.7 ('newenv')",
   "language": "python",
   "name": "python3"
  },
  "language_info": {
   "codemirror_mode": {
    "name": "ipython",
    "version": 3
   },
   "file_extension": ".py",
   "mimetype": "text/x-python",
   "name": "python",
   "nbconvert_exporter": "python",
   "pygments_lexer": "ipython3",
   "version": "3.9.7"
  },
  "orig_nbformat": 4
 },
 "nbformat": 4,
 "nbformat_minor": 2
}
