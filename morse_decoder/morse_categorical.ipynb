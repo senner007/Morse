{
 "cells": [
  {
   "cell_type": "code",
   "execution_count": null,
   "metadata": {},
   "outputs": [],
   "source": [
    "from tensorflow.keras.models import Sequential\n",
    "from tensorflow.keras.layers import Dense, Dropout, Flatten, Reshape, Conv2D, Conv1D, MaxPooling2D, Input, Concatenate\n",
    "from tensorflow.keras.models import Model\n",
    "from tensorflow import keras, config\n",
    "import numpy as np\n",
    "import matplotlib.pyplot as plt"
   ]
  },
  {
   "cell_type": "code",
   "execution_count": null,
   "metadata": {},
   "outputs": [],
   "source": [
    "print(\"GPUs Available: \", len(config.list_physical_devices('GPU')))"
   ]
  },
  {
   "cell_type": "code",
   "execution_count": null,
   "metadata": {},
   "outputs": [],
   "source": [
    "from image_preprocessors import add_noise_random, cut_and_center\n",
    "# Global settings\n",
    "TEST_SPLIT_SIZE = 0.80\n",
    "VALIDATION_SPLIT_SIZE = 0.90\n",
    "IMAGE_TARGET_SIZE = (5, 1400, 1)\n",
    "BATCH_SIZE =  128\n",
    "CATEGORIES = 26\n",
    "LETTER_END_POSITION = \"P1\"\n",
    "IMAGE_PREPOCESSORS = [\n",
    "    {\"func\" :cut_and_center, \"params\": \"\"}, \n",
    "    {\"func\": add_noise_random, \"params\": [0, 35]}\n",
    "]"
   ]
  },
  {
   "cell_type": "code",
   "execution_count": null,
   "metadata": {},
   "outputs": [],
   "source": [
    "\n",
    "%load_ext autoreload\n",
    "%autoreload 2\n",
    "\n",
    "from morse_helpers import create_sets\n",
    "from morse_label_funcs import  labels_to_one_hot_positions_categorical, letter_n_to_index, position_regression\n",
    "\n",
    "(image_fnames, morse_labels) = create_sets(\n",
    "    [\n",
    "        # [\"./training_data/MorseTrainSet_04/GEN04_VER_000/\", 'wordsMatrices_04_000', \"Words_04_000.csv\"],\n",
    "        # [\"./training_data/MorseTrainSet_04/GEN04_VER_100/\", 'wordsMatrices_04_100', \"Words_04_100.csv\"],\n",
    "        # [\"./training_data/MorseTrainSet_04/GEN04_VER_200/\", 'wordsMatrices_04_200', \"Words_04_200.csv\"],\n",
    "        # [\"./training_data/MorseTrainSet_04/GEN04_VER_210/\", 'wordsMatrices_04_210', \"Words_04_210.csv\"],\n",
    "        # [\"./training_data/MorseTrainSet_04/GEN04_VER_220/\", 'wordsMatrices_04_220', \"Words_04_220.csv\"],\n",
    "\n",
    "        # [\"./training_data/MorseTrainSet_11/GEN11_VER_000/\", 'wordsMatrices_11_000', \"Words_11_000.csv\"],\n",
    "        # [\"./training_data/MorseTrainSet_11/GEN11_VER_100/\", 'wordsMatrices_11_100', \"Words_11_100.csv\"],\n",
    "        # [\"./training_data/MorseTrainSet_11/GEN11_VER_200/\", 'wordsMatrices_11_200', \"Words_11_200.csv\"],\n",
    "        # [\"./training_data/MorseTrainSet_11/GEN11_VER_210/\", 'wordsMatrices_11_210', \"Words_11_210.csv\"],\n",
    "        # [\"./training_data/MorseTrainSet_11/GEN11_VER_220/\", 'wordsMatrices_11_220', \"Words_11_220.csv\"],\n",
    "\n",
    "        # [\"./training_data/MorseTrainSet_06/GEN06_VER_000/\", 'wordsMatrices_06_000', \"Words_06_000.csv\"],\n",
    "        # [\"./training_data/MorseTrainSet_06/GEN06_VER_100/\", 'wordsMatrices_06_100', \"Words_06_100.csv\"],\n",
    "        # [\"./training_data/MorseTrainSet_06/GEN06_VER_200/\", 'wordsMatrices_06_200', \"Words_06_200.csv\"],\n",
    "        # [\"./training_data/MorseTrainSet_06/GEN06_VER_210/\", 'wordsMatrices_06_210', \"Words_06_210.csv\"],\n",
    "        # [\"./training_data/MorseTrainSet_06/GEN06_VER_220/\", 'wordsMatrices_06_220', \"Words_06_220.csv\"],\n",
    "\n",
    "        # [\"./training_data/MorseTrainSet_13/GEN13_VER_000/\", 'wordsMatrices_13_000', \"Words_13_000.csv\"],\n",
    "        # [\"./training_data/MorseTrainSet_13/GEN13_VER_100/\", 'wordsMatrices_13_100', \"Words_13_100.csv\"],\n",
    "        # [\"./training_data/MorseTrainSet_13/GEN13_VER_200/\", 'wordsMatrices_13_200', \"Words_13_200.csv\"],\n",
    "        # [\"./training_data/MorseTrainSet_13/GEN13_VER_210/\", 'wordsMatrices_13_210', \"Words_13_210.csv\"],\n",
    "        # [\"./training_data/MorseTrainSet_13/GEN13_VER_220/\", 'wordsMatrices_13_220', \"Words_13_220.csv\"],\n",
    "\n",
    "        # [\"./training_data/MorseTrainSet_15/GEN15_VER_000/\", 'wordsMatrices_15_000', \"Words_15_000.csv\"],\n",
    "        # [\"./training_data/MorseTrainSet_15/GEN15_VER_100/\", 'wordsMatrices_15_100', \"Words_15_100.csv\"],\n",
    "        # [\"./training_data/MorseTrainSet_15/GEN15_VER_200/\", 'wordsMatrices_15_200', \"Words_15_200.csv\"],\n",
    "        # [\"./training_data/MorseTrainSet_15/GEN15_VER_210/\", 'wordsMatrices_15_210', \"Words_15_210.csv\"],\n",
    "        # [\"./training_data/MorseTrainSet_15/GEN15_VER_220/\", 'wordsMatrices_15_220', \"Words_15_220.csv\"],\n",
    "\n",
    "        # [\"./training_data/MorseTrainSet_15/GEN15_VER_001/\", 'wordsMatrices_15_001', \"Words_15_001.csv\"],\n",
    "        # [\"./training_data/MorseTrainSet_15/GEN15_VER_002/\", 'wordsMatrices_15_002', \"Words_15_002.csv\"],\n",
    "\n",
    "        [\"./training_data/MorseTrainSet_17/GEN17_VER_000/\", 'wordsMatrices_17_000', \"Words_17_000.csv\"],\n",
    "        [\"./training_data/MorseTrainSet_17/GEN17_VER_100/\", 'wordsMatrices_17_100', \"Words_17_100.csv\"],\n",
    "        [\"./training_data/MorseTrainSet_17/GEN17_VER_200/\", 'wordsMatrices_17_200', \"Words_17_200.csv\"],\n",
    "        [\"./training_data/MorseTrainSet_17/GEN17_VER_210/\", 'wordsMatrices_17_210', \"Words_17_210.csv\"],\n",
    "        [\"./training_data/MorseTrainSet_17/GEN17_VER_220/\", 'wordsMatrices_17_220', \"Words_17_220.csv\"],\n",
    "\n",
    "    ], \n",
    "    IMAGE_TARGET_SIZE,\n",
    "    [position_regression, letter_n_to_index],\n",
    "    letter_n=LETTER_END_POSITION,\n",
    "    overwrite_images=False\n",
    ")"
   ]
  },
  {
   "cell_type": "code",
   "execution_count": null,
   "metadata": {},
   "outputs": [],
   "source": [
    "# Concat label arrays\n",
    "morse_labels_concat = np.array([morse_labels[0], morse_labels[1]]).T"
   ]
  },
  {
   "cell_type": "code",
   "execution_count": null,
   "metadata": {},
   "outputs": [],
   "source": [
    "# Improve me\n",
    "def labels_to_one_hot(batch_y_positions, batch_y_letters):\n",
    "    label_letters = batch_y_letters.astype(\"int\")\n",
    "    # clean up magic numbers\n",
    "    labels_one_hot = np.zeros((label_letters.size, CATEGORIES))\n",
    "    labels_one_hot[np.arange(label_letters.size),label_letters] = 1\n",
    "    return labels_one_hot\n"
   ]
  },
  {
   "cell_type": "code",
   "execution_count": null,
   "metadata": {},
   "outputs": [],
   "source": [
    "from morse_helpers import create_all_sets\n",
    "train, labels, train_validation, labels_validation, train_test, labels_test = create_all_sets(\n",
    "    image_fnames, morse_labels_concat, TEST_SPLIT_SIZE, VALIDATION_SPLIT_SIZE, shuffle_before_test_split=True)\n"
   ]
  },
  {
   "cell_type": "code",
   "execution_count": null,
   "metadata": {},
   "outputs": [],
   "source": [
    "from morse_helpers import Image_Generator\n",
    "\n",
    "training_batch_generator = Image_Generator(train, labels, BATCH_SIZE, IMAGE_TARGET_SIZE, IMAGE_PREPOCESSORS, labels_to_one_hot)\n",
    "validation_batch_generator = Image_Generator(train_validation, labels_validation, BATCH_SIZE, IMAGE_TARGET_SIZE, IMAGE_PREPOCESSORS, labels_to_one_hot)"
   ]
  },
  {
   "cell_type": "code",
   "execution_count": null,
   "metadata": {},
   "outputs": [],
   "source": [
    "# Display generator data\n",
    "t, l = training_batch_generator.__getitem__(0)\n",
    "\n",
    "for img in t:\n",
    "    fig = plt.figure(figsize=(30,5))\n",
    "    plt.xlim(0, 300)\n",
    "    plt.imshow(img)\n",
    "    plt.show()"
   ]
  },
  {
   "cell_type": "code",
   "execution_count": null,
   "metadata": {},
   "outputs": [],
   "source": [
    "# Residual block\n",
    "def get_addblock(x, kernelsize, filters):\n",
    "    fx = layers.Conv2D(filters, kernelsize, activation='relu', padding='same')(x)\n",
    "    fx = layers.BatchNormalization()(fx)\n",
    "    fx = layers.Conv2D(filters, kernelsize, padding='same')(fx)\n",
    "    out = layers.Add()([x,fx])\n",
    "    out = layers.ReLU()(out)\n",
    "    out = layers.BatchNormalization()(out)\n",
    "    return out"
   ]
  },
  {
   "cell_type": "code",
   "execution_count": null,
   "metadata": {},
   "outputs": [],
   "source": [
    "def conv_model_catg(input_layer):\n",
    "    \n",
    "    x = keras.layers.Cropping2D(cropping=((0, 0), (0,1250)), data_format=None)(input_layer)\n",
    "\n",
    "    x = get_addblock(x, (3,5), 8)\n",
    "    x = MaxPooling2D(pool_size=(1,2),padding=\"same\")(x)\n",
    "    x = get_addblock(x, (3,7), 8)\n",
    "    x = MaxPooling2D(pool_size=(1,2),padding=\"same\")(x)\n",
    "    x = get_addblock(x, (3,3), 8)\n",
    "    x = MaxPooling2D(pool_size=(1,2),padding=\"same\")(x)\n",
    "    x = get_addblock(x, (3,3), 8)\n",
    "    x = MaxPooling2D(pool_size=(1,2),padding=\"same\")(x)\n",
    "  \n",
    "    x = Flatten()(x)\n",
    "    \n",
    "    return x"
   ]
  },
  {
   "cell_type": "code",
   "execution_count": null,
   "metadata": {},
   "outputs": [],
   "source": [
    "from tensorflow.keras import layers\n",
    "\n",
    "input_layer    = Input(shape=IMAGE_TARGET_SIZE)\n",
    "conv_model_flattened = conv_model_catg(input_layer)\n",
    "output_layer_letter    = Dense(CATEGORIES, activation=\"softmax\")(conv_model_flattened)\n",
    "\n",
    "model = Model(inputs=input_layer, outputs=output_layer_letter)\n",
    "model.compile(loss=keras.losses.CategoricalCrossentropy(), optimizer='adam', metrics=[\"accuracy\"])\n",
    "\n",
    "print(model.summary())"
   ]
  },
  {
   "cell_type": "code",
   "execution_count": null,
   "metadata": {},
   "outputs": [],
   "source": [
    "init_epoch = 0"
   ]
  },
  {
   "cell_type": "code",
   "execution_count": null,
   "metadata": {},
   "outputs": [],
   "source": [
    "\n",
    "num_epochs = 1\n",
    "\n",
    "def fit_model(epochs):\n",
    "\t\n",
    "\tglobal init_epoch\n",
    "\thistory = model.fit(\n",
    "\t\t\t\t\t   training_batch_generator,\n",
    "\t                   steps_per_epoch = int(len(train) // BATCH_SIZE),\n",
    "\t                   epochs = epochs + init_epoch,\n",
    "\t\t\t\t\t   initial_epoch=init_epoch,\n",
    "\t                   verbose =1,\n",
    "\t                   validation_data = validation_batch_generator,\n",
    "\t                   validation_steps = int(len(train_validation) // BATCH_SIZE))\n",
    "\t\n",
    "\t\n",
    "\tinit_epoch += epochs\n",
    "\treturn history\n",
    "\n",
    "history = fit_model(num_epochs)\n"
   ]
  },
  {
   "cell_type": "code",
   "execution_count": null,
   "metadata": {},
   "outputs": [],
   "source": [
    "def show_image(img):\n",
    "    plt.figure(figsize=(30,5))\n",
    "    plt.xlim(0, 300)\n",
    "    plt.imshow(img)\n",
    "    plt.show()"
   ]
  },
  {
   "cell_type": "code",
   "execution_count": null,
   "metadata": {},
   "outputs": [],
   "source": [
    "IMAGE_PREPROCESSORS_TEST = [\n",
    "    {\"func\" :cut_and_center, \"params\": \"\"}, \n",
    "    {\"func\": add_noise_random, \"params\": [29, 30]}\n",
    "]"
   ]
  },
  {
   "cell_type": "code",
   "execution_count": null,
   "metadata": {},
   "outputs": [],
   "source": [
    "# Instantiate test generator\n",
    "test_batch_generator = Image_Generator(train_test, labels_test, BATCH_SIZE, IMAGE_TARGET_SIZE, IMAGE_PREPROCESSORS_TEST, labels_to_one_hot)"
   ]
  },
  {
   "cell_type": "code",
   "execution_count": null,
   "metadata": {},
   "outputs": [],
   "source": [
    "# Display image from test generator\n",
    "\n",
    "t, l = test_batch_generator.__getitem__(0)\n",
    "show_image(t[0])"
   ]
  },
  {
   "cell_type": "code",
   "execution_count": null,
   "metadata": {},
   "outputs": [],
   "source": [
    "predictions = model.predict(test_batch_generator)"
   ]
  },
  {
   "cell_type": "code",
   "execution_count": null,
   "metadata": {},
   "outputs": [],
   "source": [
    "\n",
    "def get_deviating_predictions(generator, predictions):\n",
    "    categorical_differences = []\n",
    "    indexer = 0\n",
    "\n",
    "    for imgs_batch, labels_batch in generator:\n",
    "\n",
    "        for i in range(len(imgs_batch)):\n",
    "\n",
    "            catg_pred = np.argmax(predictions[indexer])\n",
    "            catg_test_label = np.argmax(labels_batch[i])\n",
    "\n",
    "            if catg_pred != catg_test_label:\n",
    "\n",
    "                categorical_differences.append([catg_pred, catg_test_label, imgs_batch[i], predictions[indexer]])\n",
    "\n",
    "            indexer += 1\n",
    "\n",
    "    return categorical_differences\n",
    "\n",
    "\n",
    "categorical_differences  = get_deviating_predictions(test_batch_generator, predictions)\n",
    "\n",
    "print(\"Total label predictions: \", len(predictions))\n",
    "\n",
    "print(\"Total label predictions incorrect: \", len(categorical_differences))\n",
    "print(\"Label predictions percentage incorrect\", round( (len(categorical_differences) / len(predictions) * 100), 4), \"%\")"
   ]
  },
  {
   "cell_type": "code",
   "execution_count": null,
   "metadata": {},
   "outputs": [],
   "source": [
    "evaluations = model.evaluate(test_batch_generator)\n",
    "evaluations"
   ]
  },
  {
   "cell_type": "code",
   "execution_count": null,
   "metadata": {},
   "outputs": [],
   "source": [
    "counter = 0   \n",
    "for diff in categorical_differences:\n",
    "\n",
    "    counter += 1\n",
    "    if counter > 30:\n",
    "        break\n",
    "\n",
    "    pred, correct, img, one_hot = diff\n",
    "\n",
    "    print(np.round(one_hot, 2))\n",
    "\n",
    "    img_pred = img.copy()\n",
    "    img_correct = img.copy()\n",
    "\n",
    "    print('Prediction', pred)\n",
    "    show_image(img_pred)\n",
    "\n",
    "    print('Correct', correct)\n",
    "    show_image(img_correct)\n",
    "\n",
    "    print(\"----------------------------------------------------------------------------------------\")"
   ]
  }
 ],
 "metadata": {
  "interpreter": {
   "hash": "ddce95701716284d8751d5796858f7ca5e76f20d028bc4aeb8f12865d04c55c9"
  },
  "kernelspec": {
   "display_name": "Python 3.9.7 64-bit ('newenv': conda)",
   "name": "python3"
  },
  "language_info": {
   "codemirror_mode": {
    "name": "ipython",
    "version": 3
   },
   "file_extension": ".py",
   "mimetype": "text/x-python",
   "name": "python",
   "nbconvert_exporter": "python",
   "pygments_lexer": "ipython3",
   "version": "3.9.7"
  },
  "orig_nbformat": 4
 },
 "nbformat": 4,
 "nbformat_minor": 2
}
